{
 "cells": [
  {
   "cell_type": "markdown",
   "id": "8bde7936",
   "metadata": {},
   "source": [
    "# Cat and Dog Image Classification\n",
    "This notebook goes over classification of dogs and cats "
   ]
  },
  {
   "cell_type": "code",
   "execution_count": null,
   "id": "c53b982e",
   "metadata": {},
   "outputs": [],
   "source": []
  }
 ],
 "metadata": {
  "language_info": {
   "name": "python"
  }
 },
 "nbformat": 4,
 "nbformat_minor": 5
}
